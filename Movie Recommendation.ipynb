{
  "nbformat": 4,
  "nbformat_minor": 0,
  "metadata": {
    "colab": {
      "provenance": [],
      "authorship_tag": "ABX9TyMvo1Cphn1YpmVXTaC6CwdC",
      "include_colab_link": true
    },
    "kernelspec": {
      "name": "python3",
      "display_name": "Python 3"
    },
    "language_info": {
      "name": "python"
    }
  },
  "cells": [
    {
      "cell_type": "markdown",
      "metadata": {
        "id": "view-in-github",
        "colab_type": "text"
      },
      "source": [
        "<a href=\"https://colab.research.google.com/github/benasphy/KNN/blob/main/Movie%20Recommendation.ipynb\" target=\"_parent\"><img src=\"https://colab.research.google.com/assets/colab-badge.svg\" alt=\"Open In Colab\"/></a>"
      ]
    },
    {
      "cell_type": "code",
      "source": [
        "import pandas as pd\n",
        "from sklearn.neighbors import NearestNeighbors # Fixed import: KNeighborsClassifier is for classification, NearestNeighbors is for finding similar items\n",
        "from sklearn.preprocessing import StandardScaler\n",
        "from sklearn.impute import SimpleImputer\n",
        "\n",
        "ratings = pd.read_csv('/content/u.data', sep = '\\t', names = ['user_id', 'movie_id', 'rating', 'timestamp'])\n",
        "movies = pd.read_csv('/content/u.item', sep = '|', encoding = 'latin-1', names= ['movie_id', 'title'], usecols = [0,1])\n",
        "\n",
        "data = pd.merge(ratings, movies, on = 'movie_id')\n",
        "\n",
        "# Use pivot_table to handle duplicate entries by taking the mean rating\n",
        "user_movie_matrix = data.pivot_table(index = 'user_id', columns = 'title', values = 'rating', aggfunc='mean') # Changed to pivot_table and added aggfunc\n",
        "\n",
        "imputer = SimpleImputer(strategy = 'constant', fill_value = 0)\n",
        "user_movie_matrix_imputed = imputer.fit_transform(user_movie_matrix)\n",
        "\n",
        "scaler = StandardScaler()\n",
        "user_movie_matrix_scaled = scaler.fit_transform(user_movie_matrix_imputed)\n",
        "\n",
        "model_knn = NearestNeighbors(metric = 'cosine', algorithm = 'brute')\n",
        "model_knn.fit(user_movie_matrix_scaled.T)\n",
        "\n",
        "def recommend_movie(movie_title, n_recommendations = 5):\n",
        "  if movie_title not in user_movie_matrix.columns:\n",
        "    print(f\"Movie '{movie_title}' not found in the dataset.\")\n",
        "    return[]\n",
        "\n",
        "  movie_idx = user_movie_matrix.columns.get_loc(movie_title)\n",
        "  print(f\"Finding Recommendation for {movie_title}...\") # Fixed: movie.title to movie_title\n",
        "  distances, indices = model_knn.kneighbors([user_movie_matrix_scaled[:, movie_idx]], n_neighbors = n_recommendations + 1)\n",
        "\n",
        "  recommendations = []\n",
        "  for i in range(1, len(distances.flatten())):\n",
        "    idx = indices.flatten()[i]\n",
        "    recommended_movie = user_movie_matrix.columns[idx]\n",
        "    recommendations.append((recommended_movie, distances.flatten()[i]))\n",
        "\n",
        "  return recommendations\n",
        "\n",
        "\n",
        "movie_title = 'Toy Story (1995)'\n",
        "recommendations = recommend_movie(movie_title)\n",
        "\n",
        "print(\"Recommeded Movies:\")\n",
        "for movie, dist in recommendations:\n",
        "  print(f\"{movie}, Distance: {dist:.4f}\")"
      ],
      "metadata": {
        "colab": {
          "base_uri": "https://localhost:8080/"
        },
        "id": "FFHAHIa8Pzy0",
        "outputId": "99093c43-ad8a-4e9a-e1c9-06bb9d6f0d14"
      },
      "execution_count": 5,
      "outputs": [
        {
          "output_type": "stream",
          "name": "stdout",
          "text": [
            "Finding Recommendation for Toy Story (1995)...\n",
            "Recommeded Movies:\n",
            "Star Wars (1977), Distance: 0.5423\n",
            "Independence Day (ID4) (1996), Distance: 0.5455\n",
            "Rock, The (1996), Distance: 0.5682\n",
            "Willy Wonka and the Chocolate Factory (1971), Distance: 0.5760\n",
            "Return of the Jedi (1983), Distance: 0.5770\n"
          ]
        }
      ]
    }
  ]
}